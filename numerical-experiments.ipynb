{
 "cells": [
  {
   "cell_type": "markdown",
   "metadata": {},
   "source": [
    "# Numerical Experiments\n",
    "\n",
    "Authors: Zeyad Ahmed and Paul Sheridan\n",
    "\n",
    "Last update: 2024-12-19\n",
    "\n",
    "Description: This notebook contains code for reproducing the numerical experimental results from Table 3 and Table 4 in the manuscript \"A Fisher's exact test interpretation of the TF–IDF term-weighting scheme\"."
   ]
  },
  {
   "cell_type": "markdown",
   "metadata": {},
   "source": [
    "## Preliminaries"
   ]
  },
  {
   "cell_type": "code",
   "execution_count": 1,
   "metadata": {},
   "outputs": [],
   "source": [
    "# Imports\n",
    "import math\n",
    "import scipy.stats as stats\n",
    "import pandas as pd"
   ]
  },
  {
   "cell_type": "code",
   "execution_count": 2,
   "metadata": {},
   "outputs": [],
   "source": [
    "# Custom functions\n",
    "def tf_icf(nij, n, ni):\n",
    "    return nij * math.log(n / ni)\n",
    "\n",
    "\n",
    "def tf_idf(nij, d, bi):\n",
    "    return nij * math.log(d / bi)\n",
    "\n",
    "\n",
    "def H(nij, ni, nj, n):\n",
    "    return stats.hypergeom.sf(nij - 1, n, ni, nj)\n",
    "\n",
    "\n",
    "def h(nij, ni, nj, n):\n",
    "    return math.comb(ni, nij) * math.comb(n - ni, nj - nij) / math.comb(n, nj)\n",
    "\n",
    "\n",
    "def LogH(nij, ni, nj, n):\n",
    "    return -math.log(H(nij, ni, nj, n))\n",
    "\n",
    "\n",
    "def b(nij, nj, pi):\n",
    "    return (math.comb(nj, nij) * pi**nij) * (1 - pi) ** (nj - nij)\n",
    "\n",
    "\n",
    "def Qij(nij, ni, nj, n):\n",
    "    pi = ni / n\n",
    "    return H(nij + 1, ni, nj, n) / b(nij, nj, pi)\n",
    "\n",
    "\n",
    "def tficf_phi(nij, ni, nj, n):\n",
    "    tficf = tf_icf(nij, n, ni)\n",
    "    pij = nij / nj\n",
    "    pi = ni / n\n",
    "    return tficf + nij * math.log(pij) + (nj - nij) * (pi - pij) - Qij(nij, ni, nj, n)\n",
    "\n",
    "\n",
    "def tfidf_psi(nij, ni, nj, n, bi, d):\n",
    "    tfidf = tf_idf(nij, d, bi)\n",
    "    pij = nij / nj\n",
    "    return tfidf - nij * (1 - bi / d) * (1 - pij) - Qij(nij, ni, nj, n)\n",
    "\n",
    "\n",
    "def display_params(nij, ni, nj, n, bi, d):\n",
    "    pi = ni / n\n",
    "    pij = nij / nj\n",
    "\n",
    "    print(\n",
    "        f\"Parameter settings:\\n\"\n",
    "        f\"n = {n}\\tnj = {nj}\\n\"\n",
    "        f\"ni = {ni}\\tnij = {nij}\\n\"\n",
    "        f\"bi = {bi}\\t\\td = {d}\\n\"\n",
    "        f\"pi = {pi}\\tpij = {pij}\"\n",
    "    )\n",
    "\n",
    "\n",
    "def generate_stats(nij, ni, nj, n, bi, d):\n",
    "    data = {\n",
    "        \"Formula\": [\"-logH\", \"TF-ICF+Phi\", \"TF-IDF+Psi\", \"TF-IDF\"],\n",
    "        \"Value\": [\n",
    "            round(LogH(nij, ni, nj, n), 4),\n",
    "            round(tficf_phi(nij, ni, nj, n), 4),\n",
    "            round(tfidf_psi(nij, ni, nj, n, bi, d), 4),\n",
    "            round(tf_idf(nij, d, bi), 4)\n",
    "            ],\n",
    "        \"Delta %\": [calc_delta(LogH(nij, ni, nj, n), func) for func in [LogH(nij, ni, nj, n), tficf_phi(nij, ni, nj, n), tfidf_psi(nij, ni, nj, n, bi, d), tf_idf(nij, d, bi)]]\n",
    "    }\n",
    "    return data\n",
    "def calc_delta(val1, val2):\n",
    "    return round(abs(100*(val2-val1)/val2), 4)"
   ]
  },
  {
   "cell_type": "markdown",
   "metadata": {},
   "source": [
    "## Numerical Experiments"
   ]
  },
  {
   "cell_type": "markdown",
   "metadata": {},
   "source": [
    "The functions are tested under different parameter settings to compare their performance when $ n $ is small and when $ n $ is large."
   ]
  },
  {
   "cell_type": "markdown",
   "metadata": {},
   "source": [
    "### Theorem 1 verification"
   ]
  },
  {
   "cell_type": "markdown",
   "metadata": {},
   "source": [
    "#### Using small $n$"
   ]
  },
  {
   "cell_type": "code",
   "execution_count": 3,
   "metadata": {},
   "outputs": [
    {
     "name": "stdout",
     "output_type": "stream",
     "text": [
      "Parameter settings:\n",
      "n = 1000\tnj = 100\n",
      "ni = 150\tnij = 25\n",
      "bi = 4\t\td = 20\n",
      "pi = 0.15\tpij = 0.25\n"
     ]
    },
    {
     "data": {
      "text/html": [
       "<div>\n",
       "<style scoped>\n",
       "    .dataframe tbody tr th:only-of-type {\n",
       "        vertical-align: middle;\n",
       "    }\n",
       "\n",
       "    .dataframe tbody tr th {\n",
       "        vertical-align: top;\n",
       "    }\n",
       "\n",
       "    .dataframe thead th {\n",
       "        text-align: right;\n",
       "    }\n",
       "</style>\n",
       "<table border=\"1\" class=\"dataframe\">\n",
       "  <thead>\n",
       "    <tr style=\"text-align: right;\">\n",
       "      <th></th>\n",
       "      <th>Formula</th>\n",
       "      <th>Value</th>\n",
       "      <th>Delta %</th>\n",
       "    </tr>\n",
       "  </thead>\n",
       "  <tbody>\n",
       "    <tr>\n",
       "      <th>0</th>\n",
       "      <td>-logH</td>\n",
       "      <td>5.5429</td>\n",
       "      <td>0.0000</td>\n",
       "    </tr>\n",
       "    <tr>\n",
       "      <th>1</th>\n",
       "      <td>TF-ICF+Phi</td>\n",
       "      <td>4.7111</td>\n",
       "      <td>17.6554</td>\n",
       "    </tr>\n",
       "    <tr>\n",
       "      <th>2</th>\n",
       "      <td>TF-IDF+Psi</td>\n",
       "      <td>24.6764</td>\n",
       "      <td>77.5378</td>\n",
       "    </tr>\n",
       "    <tr>\n",
       "      <th>3</th>\n",
       "      <td>TF-IDF</td>\n",
       "      <td>40.2359</td>\n",
       "      <td>86.2241</td>\n",
       "    </tr>\n",
       "  </tbody>\n",
       "</table>\n",
       "</div>"
      ],
      "text/plain": [
       "      Formula    Value  Delta %\n",
       "0       -logH   5.5429   0.0000\n",
       "1  TF-ICF+Phi   4.7111  17.6554\n",
       "2  TF-IDF+Psi  24.6764  77.5378\n",
       "3      TF-IDF  40.2359  86.2241"
      ]
     },
     "execution_count": 3,
     "metadata": {},
     "output_type": "execute_result"
    }
   ],
   "source": [
    "# Input values\n",
    "n = 1000\n",
    "ni = 150\n",
    "bi = 4\n",
    "nj = 100\n",
    "nij = 25\n",
    "d = 20\n",
    "\n",
    "# Result\n",
    "display_params(nij, ni, nj, n, bi, d)\n",
    "df = pd.DataFrame(generate_stats(nij, ni, nj, n, bi, d))\n",
    "df"
   ]
  },
  {
   "cell_type": "markdown",
   "metadata": {},
   "source": [
    "$ - \\log{H_{ij}} $ and $ TF-ICF(i,j) + \\Phi_{ij} $ are significantly different than the other two formulas since Corollary 1 and Corollary 2 conditions are violated."
   ]
  },
  {
   "cell_type": "markdown",
   "metadata": {},
   "source": [
    "#### Using large $ n $"
   ]
  },
  {
   "cell_type": "code",
   "execution_count": 4,
   "metadata": {},
   "outputs": [
    {
     "name": "stdout",
     "output_type": "stream",
     "text": [
      "Parameter settings:\n",
      "n = 10000\tnj = 75\n",
      "ni = 200\tnij = 15\n",
      "bi = 20\t\td = 75\n",
      "pi = 0.02\tpij = 0.2\n"
     ]
    },
    {
     "data": {
      "text/html": [
       "<div>\n",
       "<style scoped>\n",
       "    .dataframe tbody tr th:only-of-type {\n",
       "        vertical-align: middle;\n",
       "    }\n",
       "\n",
       "    .dataframe tbody tr th {\n",
       "        vertical-align: top;\n",
       "    }\n",
       "\n",
       "    .dataframe thead th {\n",
       "        text-align: right;\n",
       "    }\n",
       "</style>\n",
       "<table border=\"1\" class=\"dataframe\">\n",
       "  <thead>\n",
       "    <tr style=\"text-align: right;\">\n",
       "      <th></th>\n",
       "      <th>Formula</th>\n",
       "      <th>Value</th>\n",
       "      <th>Delta %</th>\n",
       "    </tr>\n",
       "  </thead>\n",
       "  <tbody>\n",
       "    <tr>\n",
       "      <th>0</th>\n",
       "      <td>-logH</td>\n",
       "      <td>24.8971</td>\n",
       "      <td>0.0000</td>\n",
       "    </tr>\n",
       "    <tr>\n",
       "      <th>1</th>\n",
       "      <td>TF-ICF+Phi</td>\n",
       "      <td>23.6898</td>\n",
       "      <td>5.0964</td>\n",
       "    </tr>\n",
       "    <tr>\n",
       "      <th>2</th>\n",
       "      <td>TF-IDF+Psi</td>\n",
       "      <td>10.9773</td>\n",
       "      <td>126.8048</td>\n",
       "    </tr>\n",
       "    <tr>\n",
       "      <th>3</th>\n",
       "      <td>TF-IDF</td>\n",
       "      <td>19.8263</td>\n",
       "      <td>25.5758</td>\n",
       "    </tr>\n",
       "  </tbody>\n",
       "</table>\n",
       "</div>"
      ],
      "text/plain": [
       "      Formula    Value   Delta %\n",
       "0       -logH  24.8971    0.0000\n",
       "1  TF-ICF+Phi  23.6898    5.0964\n",
       "2  TF-IDF+Psi  10.9773  126.8048\n",
       "3      TF-IDF  19.8263   25.5758"
      ]
     },
     "execution_count": 4,
     "metadata": {},
     "output_type": "execute_result"
    }
   ],
   "source": [
    "# Input values\n",
    "n = 10000\n",
    "ni = 200\n",
    "bi = 20\n",
    "nj = 75\n",
    "nij = 15\n",
    "d = 75\n",
    "\n",
    "# Result\n",
    "display_params(nij, ni, nj, n, bi, d)\n",
    "df = pd.DataFrame(generate_stats(nij, ni, nj, n, bi, d))\n",
    "df"
   ]
  },
  {
   "cell_type": "markdown",
   "metadata": {},
   "source": [
    "As $ n $ gets larger, the value of $ - \\log{H_{ij}} $ and $ TF-ICF(i,j) + \\Phi_{ij} $ gets closer."
   ]
  },
  {
   "cell_type": "markdown",
   "metadata": {},
   "source": [
    "### Corollary 1 verification"
   ]
  },
  {
   "cell_type": "markdown",
   "metadata": {},
   "source": [
    "#### Using small $ n $"
   ]
  },
  {
   "cell_type": "code",
   "execution_count": 5,
   "metadata": {},
   "outputs": [
    {
     "name": "stdout",
     "output_type": "stream",
     "text": [
      "Parameter settings:\n",
      "n = 1000\tnj = 25\n",
      "ni = 100\tnij = 10\n",
      "bi = 10\t\td = 40\n",
      "pi = 0.1\tpij = 0.4\n"
     ]
    },
    {
     "data": {
      "text/html": [
       "<div>\n",
       "<style scoped>\n",
       "    .dataframe tbody tr th:only-of-type {\n",
       "        vertical-align: middle;\n",
       "    }\n",
       "\n",
       "    .dataframe tbody tr th {\n",
       "        vertical-align: top;\n",
       "    }\n",
       "\n",
       "    .dataframe thead th {\n",
       "        text-align: right;\n",
       "    }\n",
       "</style>\n",
       "<table border=\"1\" class=\"dataframe\">\n",
       "  <thead>\n",
       "    <tr style=\"text-align: right;\">\n",
       "      <th></th>\n",
       "      <th>Formula</th>\n",
       "      <th>Value</th>\n",
       "      <th>Delta %</th>\n",
       "    </tr>\n",
       "  </thead>\n",
       "  <tbody>\n",
       "    <tr>\n",
       "      <th>0</th>\n",
       "      <td>-logH</td>\n",
       "      <td>9.7407</td>\n",
       "      <td>0.0000</td>\n",
       "    </tr>\n",
       "    <tr>\n",
       "      <th>1</th>\n",
       "      <td>TF-ICF+Phi</td>\n",
       "      <td>9.2446</td>\n",
       "      <td>5.3662</td>\n",
       "    </tr>\n",
       "    <tr>\n",
       "      <th>2</th>\n",
       "      <td>TF-IDF+Psi</td>\n",
       "      <td>9.2446</td>\n",
       "      <td>5.3662</td>\n",
       "    </tr>\n",
       "    <tr>\n",
       "      <th>3</th>\n",
       "      <td>TF-IDF</td>\n",
       "      <td>13.8629</td>\n",
       "      <td>29.7354</td>\n",
       "    </tr>\n",
       "  </tbody>\n",
       "</table>\n",
       "</div>"
      ],
      "text/plain": [
       "      Formula    Value  Delta %\n",
       "0       -logH   9.7407   0.0000\n",
       "1  TF-ICF+Phi   9.2446   5.3662\n",
       "2  TF-IDF+Psi   9.2446   5.3662\n",
       "3      TF-IDF  13.8629  29.7354"
      ]
     },
     "execution_count": 5,
     "metadata": {},
     "output_type": "execute_result"
    }
   ],
   "source": [
    "# Input values\n",
    "n = 1000\n",
    "ni = 100\n",
    "bi = 10\n",
    "nj = 25\n",
    "nij = 10\n",
    "d = 40\n",
    "\n",
    "# Result\n",
    "display_params(nij, ni, nj, n, bi, d)\n",
    "df = pd.DataFrame(generate_stats(nij, ni, nj, n, bi, d))\n",
    "df"
   ]
  },
  {
   "cell_type": "markdown",
   "metadata": {},
   "source": [
    "When Corollary 1 conditions are satisfied, the value of $ TF-IDF(i,j) + \\Psi_{ij} $ gets closer to $ - \\log{H_{ij}} $"
   ]
  },
  {
   "cell_type": "markdown",
   "metadata": {},
   "source": [
    "#### Using large $ n $"
   ]
  },
  {
   "cell_type": "code",
   "execution_count": 6,
   "metadata": {},
   "outputs": [
    {
     "name": "stdout",
     "output_type": "stream",
     "text": [
      "Parameter settings:\n",
      "n = 10000\tnj = 100\n",
      "ni = 200\tnij = 25\n",
      "bi = 8\t\td = 100\n",
      "pi = 0.02\tpij = 0.25\n"
     ]
    },
    {
     "data": {
      "text/html": [
       "<div>\n",
       "<style scoped>\n",
       "    .dataframe tbody tr th:only-of-type {\n",
       "        vertical-align: middle;\n",
       "    }\n",
       "\n",
       "    .dataframe tbody tr th {\n",
       "        vertical-align: top;\n",
       "    }\n",
       "\n",
       "    .dataframe thead th {\n",
       "        text-align: right;\n",
       "    }\n",
       "</style>\n",
       "<table border=\"1\" class=\"dataframe\">\n",
       "  <thead>\n",
       "    <tr style=\"text-align: right;\">\n",
       "      <th></th>\n",
       "      <th>Formula</th>\n",
       "      <th>Value</th>\n",
       "      <th>Delta %</th>\n",
       "    </tr>\n",
       "  </thead>\n",
       "  <tbody>\n",
       "    <tr>\n",
       "      <th>0</th>\n",
       "      <td>-logH</td>\n",
       "      <td>46.7698</td>\n",
       "      <td>0.0000</td>\n",
       "    </tr>\n",
       "    <tr>\n",
       "      <th>1</th>\n",
       "      <td>TF-ICF+Phi</td>\n",
       "      <td>45.8791</td>\n",
       "      <td>1.9414</td>\n",
       "    </tr>\n",
       "    <tr>\n",
       "      <th>2</th>\n",
       "      <td>TF-IDF+Psi</td>\n",
       "      <td>45.8791</td>\n",
       "      <td>1.9414</td>\n",
       "    </tr>\n",
       "    <tr>\n",
       "      <th>3</th>\n",
       "      <td>TF-IDF</td>\n",
       "      <td>63.1432</td>\n",
       "      <td>25.9306</td>\n",
       "    </tr>\n",
       "  </tbody>\n",
       "</table>\n",
       "</div>"
      ],
      "text/plain": [
       "      Formula    Value  Delta %\n",
       "0       -logH  46.7698   0.0000\n",
       "1  TF-ICF+Phi  45.8791   1.9414\n",
       "2  TF-IDF+Psi  45.8791   1.9414\n",
       "3      TF-IDF  63.1432  25.9306"
      ]
     },
     "execution_count": 6,
     "metadata": {},
     "output_type": "execute_result"
    }
   ],
   "source": [
    "# Input values\n",
    "n = 10000\n",
    "ni = 200\n",
    "bi = 8\n",
    "nj = 100\n",
    "nij = 25\n",
    "d = 100\n",
    "\n",
    "# Result\n",
    "display_params(nij, ni, nj, n, bi, d)\n",
    "df = pd.DataFrame(generate_stats(nij, ni, nj, n, bi, d))\n",
    "df"
   ]
  },
  {
   "cell_type": "markdown",
   "metadata": {},
   "source": [
    "When Corollary 1 conditions are satisfied, the value of $ TF-IDF(i,j) + \\Psi_{ij} $ gets closer to $ - \\log{H_{ij}} $ and the difference becomes less significant when $ n $ gets larger."
   ]
  },
  {
   "cell_type": "markdown",
   "metadata": {},
   "source": [
    "### Corollary 2 verification"
   ]
  },
  {
   "cell_type": "markdown",
   "metadata": {},
   "source": [
    "#### Using small $ n $"
   ]
  },
  {
   "cell_type": "code",
   "execution_count": 7,
   "metadata": {},
   "outputs": [
    {
     "name": "stdout",
     "output_type": "stream",
     "text": [
      "Parameter settings:\n",
      "n = 1000\tnj = 20\n",
      "ni = 160\tnij = 20\n",
      "bi = 8\t\td = 50\n",
      "pi = 0.16\tpij = 1.0\n"
     ]
    },
    {
     "data": {
      "text/html": [
       "<div>\n",
       "<style scoped>\n",
       "    .dataframe tbody tr th:only-of-type {\n",
       "        vertical-align: middle;\n",
       "    }\n",
       "\n",
       "    .dataframe tbody tr th {\n",
       "        vertical-align: top;\n",
       "    }\n",
       "\n",
       "    .dataframe thead th {\n",
       "        text-align: right;\n",
       "    }\n",
       "</style>\n",
       "<table border=\"1\" class=\"dataframe\">\n",
       "  <thead>\n",
       "    <tr style=\"text-align: right;\">\n",
       "      <th></th>\n",
       "      <th>Formula</th>\n",
       "      <th>Value</th>\n",
       "      <th>Delta %</th>\n",
       "    </tr>\n",
       "  </thead>\n",
       "  <tbody>\n",
       "    <tr>\n",
       "      <th>0</th>\n",
       "      <td>-logH</td>\n",
       "      <td>37.6993</td>\n",
       "      <td>0.0000</td>\n",
       "    </tr>\n",
       "    <tr>\n",
       "      <th>1</th>\n",
       "      <td>TF-ICF+Phi</td>\n",
       "      <td>36.6516</td>\n",
       "      <td>2.8584</td>\n",
       "    </tr>\n",
       "    <tr>\n",
       "      <th>2</th>\n",
       "      <td>TF-IDF+Psi</td>\n",
       "      <td>36.6516</td>\n",
       "      <td>2.8584</td>\n",
       "    </tr>\n",
       "    <tr>\n",
       "      <th>3</th>\n",
       "      <td>TF-IDF</td>\n",
       "      <td>36.6516</td>\n",
       "      <td>2.8584</td>\n",
       "    </tr>\n",
       "  </tbody>\n",
       "</table>\n",
       "</div>"
      ],
      "text/plain": [
       "      Formula    Value  Delta %\n",
       "0       -logH  37.6993   0.0000\n",
       "1  TF-ICF+Phi  36.6516   2.8584\n",
       "2  TF-IDF+Psi  36.6516   2.8584\n",
       "3      TF-IDF  36.6516   2.8584"
      ]
     },
     "execution_count": 7,
     "metadata": {},
     "output_type": "execute_result"
    }
   ],
   "source": [
    "# Input values\n",
    "n = 1000\n",
    "ni = 160\n",
    "bi = 8\n",
    "nj = 20\n",
    "nij = 20\n",
    "d = 50\n",
    "\n",
    "# Result\n",
    "display_params(nij, ni, nj, n, bi, d)\n",
    "df = pd.DataFrame(generate_stats(nij, ni, nj, n, bi, d))\n",
    "df"
   ]
  },
  {
   "cell_type": "markdown",
   "metadata": {},
   "source": [
    "When Corollary 2 conditions are satisfied, the value of $ TF-IDF(i,j) $ gets closer to $ - \\log{H_{ij}} $"
   ]
  },
  {
   "cell_type": "markdown",
   "metadata": {},
   "source": [
    "#### Using large $ n $"
   ]
  },
  {
   "cell_type": "code",
   "execution_count": 8,
   "metadata": {},
   "outputs": [
    {
     "name": "stdout",
     "output_type": "stream",
     "text": [
      "Parameter settings:\n",
      "n = 10000\tnj = 80\n",
      "ni = 1200\tnij = 80\n",
      "bi = 15\t\td = 125\n",
      "pi = 0.12\tpij = 1.0\n"
     ]
    },
    {
     "data": {
      "text/html": [
       "<div>\n",
       "<style scoped>\n",
       "    .dataframe tbody tr th:only-of-type {\n",
       "        vertical-align: middle;\n",
       "    }\n",
       "\n",
       "    .dataframe tbody tr th {\n",
       "        vertical-align: top;\n",
       "    }\n",
       "\n",
       "    .dataframe thead th {\n",
       "        text-align: right;\n",
       "    }\n",
       "</style>\n",
       "<table border=\"1\" class=\"dataframe\">\n",
       "  <thead>\n",
       "    <tr style=\"text-align: right;\">\n",
       "      <th></th>\n",
       "      <th>Formula</th>\n",
       "      <th>Value</th>\n",
       "      <th>Delta %</th>\n",
       "    </tr>\n",
       "  </thead>\n",
       "  <tbody>\n",
       "    <tr>\n",
       "      <th>0</th>\n",
       "      <td>-logH</td>\n",
       "      <td>171.9977</td>\n",
       "      <td>0.0000</td>\n",
       "    </tr>\n",
       "    <tr>\n",
       "      <th>1</th>\n",
       "      <td>TF-ICF+Phi</td>\n",
       "      <td>169.6211</td>\n",
       "      <td>1.4012</td>\n",
       "    </tr>\n",
       "    <tr>\n",
       "      <th>2</th>\n",
       "      <td>TF-IDF+Psi</td>\n",
       "      <td>169.6211</td>\n",
       "      <td>1.4012</td>\n",
       "    </tr>\n",
       "    <tr>\n",
       "      <th>3</th>\n",
       "      <td>TF-IDF</td>\n",
       "      <td>169.6211</td>\n",
       "      <td>1.4012</td>\n",
       "    </tr>\n",
       "  </tbody>\n",
       "</table>\n",
       "</div>"
      ],
      "text/plain": [
       "      Formula     Value  Delta %\n",
       "0       -logH  171.9977   0.0000\n",
       "1  TF-ICF+Phi  169.6211   1.4012\n",
       "2  TF-IDF+Psi  169.6211   1.4012\n",
       "3      TF-IDF  169.6211   1.4012"
      ]
     },
     "execution_count": 8,
     "metadata": {},
     "output_type": "execute_result"
    }
   ],
   "source": [
    "# Input values\n",
    "n = 10000\n",
    "ni = 1200\n",
    "bi = 15\n",
    "nj = 80\n",
    "nij = 80\n",
    "d = 125\n",
    "\n",
    "# Result\n",
    "display_params(nij, ni, nj, n, bi, d)\n",
    "df = pd.DataFrame(generate_stats(nij, ni, nj, n, bi, d))\n",
    "df"
   ]
  },
  {
   "cell_type": "markdown",
   "metadata": {},
   "source": [
    "When Corollary 2 conditions are satisfied, the value of $ TF-IDF(i,j) $ gets closer to $ - \\log{H} $ and the difference becomes less significant when $ n $ gets larger."
   ]
  },
  {
   "cell_type": "markdown",
   "metadata": {},
   "source": [
    "### Examples Typical of Real Data"
   ]
  },
  {
   "cell_type": "markdown",
   "metadata": {},
   "source": [
    "#### Case 1"
   ]
  },
  {
   "cell_type": "markdown",
   "metadata": {},
   "source": [
    "Large number of documents $d$ and small number of occurences of a given word in a given document, $n_{ij}$."
   ]
  },
  {
   "cell_type": "code",
   "execution_count": 9,
   "metadata": {},
   "outputs": [
    {
     "name": "stdout",
     "output_type": "stream",
     "text": [
      "Parameter settings:\n",
      "n = 10000\tnj = 75\n",
      "ni = 125\tnij = 7\n",
      "bi = 12\t\td = 175\n",
      "pi = 0.0125\tpij = 0.09333333333333334\n"
     ]
    },
    {
     "data": {
      "text/html": [
       "<div>\n",
       "<style scoped>\n",
       "    .dataframe tbody tr th:only-of-type {\n",
       "        vertical-align: middle;\n",
       "    }\n",
       "\n",
       "    .dataframe tbody tr th {\n",
       "        vertical-align: top;\n",
       "    }\n",
       "\n",
       "    .dataframe thead th {\n",
       "        text-align: right;\n",
       "    }\n",
       "</style>\n",
       "<table border=\"1\" class=\"dataframe\">\n",
       "  <thead>\n",
       "    <tr style=\"text-align: right;\">\n",
       "      <th></th>\n",
       "      <th>Formula</th>\n",
       "      <th>Value</th>\n",
       "      <th>Delta %</th>\n",
       "    </tr>\n",
       "  </thead>\n",
       "  <tbody>\n",
       "    <tr>\n",
       "      <th>0</th>\n",
       "      <td>-logH</td>\n",
       "      <td>10.1385</td>\n",
       "      <td>0.0000</td>\n",
       "    </tr>\n",
       "    <tr>\n",
       "      <th>1</th>\n",
       "      <td>TF-ICF+Phi</td>\n",
       "      <td>8.4774</td>\n",
       "      <td>19.5938</td>\n",
       "    </tr>\n",
       "    <tr>\n",
       "      <th>2</th>\n",
       "      <td>TF-IDF+Psi</td>\n",
       "      <td>12.7487</td>\n",
       "      <td>20.4740</td>\n",
       "    </tr>\n",
       "    <tr>\n",
       "      <th>3</th>\n",
       "      <td>TF-IDF</td>\n",
       "      <td>18.7592</td>\n",
       "      <td>45.9544</td>\n",
       "    </tr>\n",
       "  </tbody>\n",
       "</table>\n",
       "</div>"
      ],
      "text/plain": [
       "      Formula    Value  Delta %\n",
       "0       -logH  10.1385   0.0000\n",
       "1  TF-ICF+Phi   8.4774  19.5938\n",
       "2  TF-IDF+Psi  12.7487  20.4740\n",
       "3      TF-IDF  18.7592  45.9544"
      ]
     },
     "execution_count": 9,
     "metadata": {},
     "output_type": "execute_result"
    }
   ],
   "source": [
    "# Input values\n",
    "n = 10000\n",
    "ni = 125\n",
    "bi = 12\n",
    "nj = 75\n",
    "nij = 7\n",
    "d = 175\n",
    "\n",
    "# Result\n",
    "display_params(nij, ni, nj, n, bi, d)\n",
    "df = pd.DataFrame(generate_stats(nij, ni, nj, n, bi, d))\n",
    "df"
   ]
  },
  {
   "cell_type": "markdown",
   "metadata": {},
   "source": [
    "This setup violates the conditions of Theorem 1, such as $n_j$ being sufficiently large."
   ]
  },
  {
   "cell_type": "markdown",
   "metadata": {},
   "source": [
    "#### Case 2"
   ]
  },
  {
   "cell_type": "markdown",
   "metadata": {},
   "source": [
    "Rare term $i$ that occurs in a few documents, i.e., $p_i$ and $b_i/d$ are small."
   ]
  },
  {
   "cell_type": "code",
   "execution_count": 10,
   "metadata": {},
   "outputs": [
    {
     "name": "stdout",
     "output_type": "stream",
     "text": [
      "Parameter settings:\n",
      "n = 12500\tnj = 80\n",
      "ni = 6\tnij = 2\n",
      "bi = 3\t\td = 200\n",
      "pi = 0.00048\tpij = 0.025\n"
     ]
    },
    {
     "data": {
      "text/html": [
       "<div>\n",
       "<style scoped>\n",
       "    .dataframe tbody tr th:only-of-type {\n",
       "        vertical-align: middle;\n",
       "    }\n",
       "\n",
       "    .dataframe tbody tr th {\n",
       "        vertical-align: top;\n",
       "    }\n",
       "\n",
       "    .dataframe thead th {\n",
       "        text-align: right;\n",
       "    }\n",
       "</style>\n",
       "<table border=\"1\" class=\"dataframe\">\n",
       "  <thead>\n",
       "    <tr style=\"text-align: right;\">\n",
       "      <th></th>\n",
       "      <th>Formula</th>\n",
       "      <th>Value</th>\n",
       "      <th>Delta %</th>\n",
       "    </tr>\n",
       "  </thead>\n",
       "  <tbody>\n",
       "    <tr>\n",
       "      <th>0</th>\n",
       "      <td>-logH</td>\n",
       "      <td>7.4240</td>\n",
       "      <td>0.0000</td>\n",
       "    </tr>\n",
       "    <tr>\n",
       "      <th>1</th>\n",
       "      <td>TF-ICF+Phi</td>\n",
       "      <td>5.9860</td>\n",
       "      <td>24.0226</td>\n",
       "    </tr>\n",
       "    <tr>\n",
       "      <th>2</th>\n",
       "      <td>TF-IDF+Psi</td>\n",
       "      <td>6.4716</td>\n",
       "      <td>14.7178</td>\n",
       "    </tr>\n",
       "    <tr>\n",
       "      <th>3</th>\n",
       "      <td>TF-IDF</td>\n",
       "      <td>8.3994</td>\n",
       "      <td>11.6125</td>\n",
       "    </tr>\n",
       "  </tbody>\n",
       "</table>\n",
       "</div>"
      ],
      "text/plain": [
       "      Formula   Value  Delta %\n",
       "0       -logH  7.4240   0.0000\n",
       "1  TF-ICF+Phi  5.9860  24.0226\n",
       "2  TF-IDF+Psi  6.4716  14.7178\n",
       "3      TF-IDF  8.3994  11.6125"
      ]
     },
     "execution_count": 10,
     "metadata": {},
     "output_type": "execute_result"
    }
   ],
   "source": [
    "# Input values\n",
    "n = 12500\n",
    "ni = 6\n",
    "bi = 3\n",
    "nj = 80\n",
    "nij = 2\n",
    "d = 200\n",
    "\n",
    "# Result\n",
    "display_params(nij, ni, nj, n, bi, d)\n",
    "df = pd.DataFrame(generate_stats(nij, ni, nj, n, bi, d))\n",
    "df"
   ]
  },
  {
   "cell_type": "markdown",
   "metadata": {},
   "source": [
    "This setup violates some conditions of Theorem 1 (such as $n_{ij}$ being large) and Corollaries 1 & 2 (such as documents being of equal length)"
   ]
  }
 ],
 "metadata": {
  "kernelspec": {
   "display_name": "Python 3 (ipykernel)",
   "language": "python",
   "name": "python3"
  },
  "language_info": {
   "codemirror_mode": {
    "name": "ipython",
    "version": 3
   },
   "file_extension": ".py",
   "mimetype": "text/x-python",
   "name": "python",
   "nbconvert_exporter": "python",
   "pygments_lexer": "ipython3",
   "version": "3.10.13"
  }
 },
 "nbformat": 4,
 "nbformat_minor": 4
}

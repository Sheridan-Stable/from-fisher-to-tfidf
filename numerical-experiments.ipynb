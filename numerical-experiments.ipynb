{
 "cells": [
  {
   "cell_type": "markdown",
   "metadata": {},
   "source": [
    "# Numerical Experiments\n",
    "\n",
    "Authors: Zeyad Ahmed and Paul Sheridan\n",
    "\n",
    "Last update: 2024-06-10\n",
    "\n",
    "Description: This notebook contains code for reproducing the numerical experimental results from Table 3 in the manuscript \"A Fisher's exact test interpretation of the TF–IDF term-weighting scheme\"."
   ]
  },
  {
   "cell_type": "markdown",
   "metadata": {},
   "source": [
    "## Preliminaries"
   ]
  },
  {
   "cell_type": "code",
   "execution_count": 1,
   "metadata": {},
   "outputs": [],
   "source": [
    "# Imports\n",
    "import math\n",
    "import scipy.stats as stats\n",
    "import pandas as pd"
   ]
  },
  {
   "cell_type": "code",
   "execution_count": 5,
   "metadata": {},
   "outputs": [],
   "source": [
    "# Custom functions\n",
    "def tf_icf(nij, n, ni):\n",
    "    return nij * math.log(n / ni)\n",
    "\n",
    "\n",
    "def tf_idf(nij, d, bi):\n",
    "    return nij * math.log(d / bi)\n",
    "\n",
    "\n",
    "def H(nij, ni, nj, n):\n",
    "    return stats.hypergeom.sf(nij - 1, n, ni, nj)\n",
    "\n",
    "\n",
    "def h(nij, ni, nj, n):\n",
    "    return math.comb(ni, nij) * math.comb(n - ni, nj - nij) / math.comb(n, nj)\n",
    "\n",
    "\n",
    "def LogH(nij, ni, nj, n):\n",
    "    return -math.log(H(nij, ni, nj, n))\n",
    "\n",
    "\n",
    "def b(nij, nj, pi):\n",
    "    return (math.comb(nj, nij) * pi**nij) * (1 - pi) ** (nj - nij)\n",
    "\n",
    "\n",
    "def Qij(nij, ni, nj, n):\n",
    "    pi = ni / n\n",
    "    return H(nij + 1, ni, nj, n) / b(nij, nj, pi)\n",
    "\n",
    "\n",
    "def tficf_phi(nij, ni, nj, n):\n",
    "    tficf = tf_icf(nij, n, ni)\n",
    "    pij = nij / nj\n",
    "    pi = ni / n\n",
    "    return tficf + nij * math.log(pij) + (nj - nij) * (pi - pij) - Qij(nij, ni, nj, n)\n",
    "\n",
    "\n",
    "def tfidf_psi(nij, ni, nj, n, bi, d):\n",
    "    tfidf = tf_idf(nij, d, bi)\n",
    "    pij = nij / nj\n",
    "    return tfidf - nij * (1 - bi / d) * (1 - pij) - Qij(nij, ni, nj, n)\n",
    "\n",
    "\n",
    "def display_params(nij, ni, nj, n, bi, d):\n",
    "    pi = ni / n\n",
    "    pij = nij / nj\n",
    "\n",
    "    print(\n",
    "        f\"Parameter settings:\\n\"\n",
    "        f\"n = {n}\\tnj = {nj}\\n\"\n",
    "        f\"ni = {ni}\\tnij = {nij}\\n\"\n",
    "        f\"bi = {bi}\\t\\td = {d}\\n\"\n",
    "        f\"pi = {pi}\\tpij = {pij}\"\n",
    "    )\n",
    "\n",
    "\n",
    "def generate_stats(nij, ni, nj, n, bi, d):\n",
    "    data = {\n",
    "        \"Formula\": [\"-logH\", \"TF-ICF+Phi\", \"TF-IDF+Psi\", \"TF-IDF\"],\n",
    "        \"Value\": [\n",
    "            LogH(nij, ni, nj, n),\n",
    "            tficf_phi(nij, ni, nj, n),\n",
    "            tfidf_psi(nij, ni, nj, n, bi, d),\n",
    "            tf_idf(nij, d, bi)\n",
    "            ]\n",
    "    }\n",
    "    return data"
   ]
  },
  {
   "cell_type": "markdown",
   "metadata": {},
   "source": [
    "## Numerical Experiments"
   ]
  },
  {
   "cell_type": "markdown",
   "metadata": {},
   "source": [
    "The functions are tested under different parameter settings to compare their performance when $ n $ is small and when $ n $ is large."
   ]
  },
  {
   "cell_type": "markdown",
   "metadata": {},
   "source": [
    "### Theorem 1 verification"
   ]
  },
  {
   "cell_type": "markdown",
   "metadata": {},
   "source": [
    "#### Using small $n$"
   ]
  },
  {
   "cell_type": "code",
   "execution_count": 10,
   "metadata": {},
   "outputs": [
    {
     "name": "stdout",
     "output_type": "stream",
     "text": [
      "Parameter settings:\n",
      "n = 1000\tnj = 100\n",
      "ni = 150\tnij = 25\n",
      "bi = 4\t\td = 20\n",
      "pi = 0.15\tpij = 0.25\n"
     ]
    },
    {
     "data": {
      "text/html": [
       "<div>\n",
       "<style scoped>\n",
       "    .dataframe tbody tr th:only-of-type {\n",
       "        vertical-align: middle;\n",
       "    }\n",
       "\n",
       "    .dataframe tbody tr th {\n",
       "        vertical-align: top;\n",
       "    }\n",
       "\n",
       "    .dataframe thead th {\n",
       "        text-align: right;\n",
       "    }\n",
       "</style>\n",
       "<table border=\"1\" class=\"dataframe\">\n",
       "  <thead>\n",
       "    <tr style=\"text-align: right;\">\n",
       "      <th></th>\n",
       "      <th>Formula</th>\n",
       "      <th>Value</th>\n",
       "    </tr>\n",
       "  </thead>\n",
       "  <tbody>\n",
       "    <tr>\n",
       "      <th>0</th>\n",
       "      <td>-logH</td>\n",
       "      <td>5.542875</td>\n",
       "    </tr>\n",
       "    <tr>\n",
       "      <th>1</th>\n",
       "      <td>TF-ICF+Phi</td>\n",
       "      <td>4.711109</td>\n",
       "    </tr>\n",
       "    <tr>\n",
       "      <th>2</th>\n",
       "      <td>TF-IDF+Psi</td>\n",
       "      <td>24.676417</td>\n",
       "    </tr>\n",
       "    <tr>\n",
       "      <th>3</th>\n",
       "      <td>TF-IDF</td>\n",
       "      <td>40.235948</td>\n",
       "    </tr>\n",
       "  </tbody>\n",
       "</table>\n",
       "</div>"
      ],
      "text/plain": [
       "      Formula      Value\n",
       "0       -logH   5.542875\n",
       "1  TF-ICF+Phi   4.711109\n",
       "2  TF-IDF+Psi  24.676417\n",
       "3      TF-IDF  40.235948"
      ]
     },
     "execution_count": 10,
     "metadata": {},
     "output_type": "execute_result"
    }
   ],
   "source": [
    "# Input values\n",
    "n = 1000\n",
    "ni = 150\n",
    "bi = 4\n",
    "nj = 100\n",
    "nij = 25\n",
    "d = 20\n",
    "\n",
    "# Result\n",
    "display_params(nij, ni, nj, n, bi, d)\n",
    "df = pd.DataFrame(generate_stats(nij, ni, nj, n, bi, d))\n",
    "df"
   ]
  },
  {
   "cell_type": "markdown",
   "metadata": {},
   "source": [
    "$ - \\log{H_{ij}} $ and $ TF-ICF(i,j) + \\Phi_{ij} $ are significantly different than the other two formulas since Corollary 1 and Corollary 2 conditions are violated."
   ]
  },
  {
   "cell_type": "markdown",
   "metadata": {},
   "source": [
    "#### Using large $ n $"
   ]
  },
  {
   "cell_type": "code",
   "execution_count": 11,
   "metadata": {},
   "outputs": [
    {
     "name": "stdout",
     "output_type": "stream",
     "text": [
      "Parameter settings:\n",
      "n = 10000\tnj = 75\n",
      "ni = 200\tnij = 15\n",
      "bi = 20\t\td = 75\n",
      "pi = 0.02\tpij = 0.2\n"
     ]
    },
    {
     "data": {
      "text/html": [
       "<div>\n",
       "<style scoped>\n",
       "    .dataframe tbody tr th:only-of-type {\n",
       "        vertical-align: middle;\n",
       "    }\n",
       "\n",
       "    .dataframe tbody tr th {\n",
       "        vertical-align: top;\n",
       "    }\n",
       "\n",
       "    .dataframe thead th {\n",
       "        text-align: right;\n",
       "    }\n",
       "</style>\n",
       "<table border=\"1\" class=\"dataframe\">\n",
       "  <thead>\n",
       "    <tr style=\"text-align: right;\">\n",
       "      <th></th>\n",
       "      <th>Formula</th>\n",
       "      <th>Value</th>\n",
       "    </tr>\n",
       "  </thead>\n",
       "  <tbody>\n",
       "    <tr>\n",
       "      <th>0</th>\n",
       "      <td>-logH</td>\n",
       "      <td>24.897081</td>\n",
       "    </tr>\n",
       "    <tr>\n",
       "      <th>1</th>\n",
       "      <td>TF-ICF+Phi</td>\n",
       "      <td>23.689756</td>\n",
       "    </tr>\n",
       "    <tr>\n",
       "      <th>2</th>\n",
       "      <td>TF-IDF+Psi</td>\n",
       "      <td>10.977317</td>\n",
       "    </tr>\n",
       "    <tr>\n",
       "      <th>3</th>\n",
       "      <td>TF-IDF</td>\n",
       "      <td>19.826338</td>\n",
       "    </tr>\n",
       "  </tbody>\n",
       "</table>\n",
       "</div>"
      ],
      "text/plain": [
       "      Formula      Value\n",
       "0       -logH  24.897081\n",
       "1  TF-ICF+Phi  23.689756\n",
       "2  TF-IDF+Psi  10.977317\n",
       "3      TF-IDF  19.826338"
      ]
     },
     "execution_count": 11,
     "metadata": {},
     "output_type": "execute_result"
    }
   ],
   "source": [
    "# Input values\n",
    "n = 10000\n",
    "ni = 200\n",
    "bi = 20\n",
    "nj = 75\n",
    "nij = 15\n",
    "d = 75\n",
    "\n",
    "# Result\n",
    "display_params(nij, ni, nj, n, bi, d)\n",
    "df = pd.DataFrame(generate_stats(nij, ni, nj, n, bi, d))\n",
    "df"
   ]
  },
  {
   "cell_type": "markdown",
   "metadata": {},
   "source": [
    "As $ n $ gets larger, the value of $ - \\log{H_{ij}} $ and $ TF-ICF(i,j) + \\Phi_{ij} $ gets closer."
   ]
  },
  {
   "cell_type": "markdown",
   "metadata": {},
   "source": [
    "### Corollary 1 verification"
   ]
  },
  {
   "cell_type": "markdown",
   "metadata": {},
   "source": [
    "#### Using small $ n $"
   ]
  },
  {
   "cell_type": "code",
   "execution_count": 12,
   "metadata": {},
   "outputs": [
    {
     "name": "stdout",
     "output_type": "stream",
     "text": [
      "Parameter settings:\n",
      "n = 1000\tnj = 25\n",
      "ni = 100\tnij = 10\n",
      "bi = 10\t\td = 40\n",
      "pi = 0.1\tpij = 0.4\n"
     ]
    },
    {
     "data": {
      "text/html": [
       "<div>\n",
       "<style scoped>\n",
       "    .dataframe tbody tr th:only-of-type {\n",
       "        vertical-align: middle;\n",
       "    }\n",
       "\n",
       "    .dataframe tbody tr th {\n",
       "        vertical-align: top;\n",
       "    }\n",
       "\n",
       "    .dataframe thead th {\n",
       "        text-align: right;\n",
       "    }\n",
       "</style>\n",
       "<table border=\"1\" class=\"dataframe\">\n",
       "  <thead>\n",
       "    <tr style=\"text-align: right;\">\n",
       "      <th></th>\n",
       "      <th>Formula</th>\n",
       "      <th>Value</th>\n",
       "    </tr>\n",
       "  </thead>\n",
       "  <tbody>\n",
       "    <tr>\n",
       "      <th>0</th>\n",
       "      <td>-logH</td>\n",
       "      <td>9.740736</td>\n",
       "    </tr>\n",
       "    <tr>\n",
       "      <th>1</th>\n",
       "      <td>TF-ICF+Phi</td>\n",
       "      <td>9.244649</td>\n",
       "    </tr>\n",
       "    <tr>\n",
       "      <th>2</th>\n",
       "      <td>TF-IDF+Psi</td>\n",
       "      <td>9.244649</td>\n",
       "    </tr>\n",
       "    <tr>\n",
       "      <th>3</th>\n",
       "      <td>TF-IDF</td>\n",
       "      <td>13.862944</td>\n",
       "    </tr>\n",
       "  </tbody>\n",
       "</table>\n",
       "</div>"
      ],
      "text/plain": [
       "      Formula      Value\n",
       "0       -logH   9.740736\n",
       "1  TF-ICF+Phi   9.244649\n",
       "2  TF-IDF+Psi   9.244649\n",
       "3      TF-IDF  13.862944"
      ]
     },
     "execution_count": 12,
     "metadata": {},
     "output_type": "execute_result"
    }
   ],
   "source": [
    "# Input values\n",
    "n = 1000\n",
    "ni = 100\n",
    "bi = 10\n",
    "nj = 25\n",
    "nij = 10\n",
    "d = 40\n",
    "\n",
    "# Result\n",
    "display_params(nij, ni, nj, n, bi, d)\n",
    "df = pd.DataFrame(generate_stats(nij, ni, nj, n, bi, d))\n",
    "df"
   ]
  },
  {
   "cell_type": "markdown",
   "metadata": {},
   "source": [
    "When Corollary 1 conditions are satisfied, the value of $ TF-IDF(i,j) + \\Psi_{ij} $ gets closer to $ - \\log{H_{ij}} $"
   ]
  },
  {
   "cell_type": "markdown",
   "metadata": {},
   "source": [
    "#### Using large $ n $"
   ]
  },
  {
   "cell_type": "code",
   "execution_count": 13,
   "metadata": {},
   "outputs": [
    {
     "name": "stdout",
     "output_type": "stream",
     "text": [
      "Parameter settings:\n",
      "n = 10000\tnj = 100\n",
      "ni = 200\tnij = 25\n",
      "bi = 8\t\td = 100\n",
      "pi = 0.02\tpij = 0.25\n"
     ]
    },
    {
     "data": {
      "text/html": [
       "<div>\n",
       "<style scoped>\n",
       "    .dataframe tbody tr th:only-of-type {\n",
       "        vertical-align: middle;\n",
       "    }\n",
       "\n",
       "    .dataframe tbody tr th {\n",
       "        vertical-align: top;\n",
       "    }\n",
       "\n",
       "    .dataframe thead th {\n",
       "        text-align: right;\n",
       "    }\n",
       "</style>\n",
       "<table border=\"1\" class=\"dataframe\">\n",
       "  <thead>\n",
       "    <tr style=\"text-align: right;\">\n",
       "      <th></th>\n",
       "      <th>Formula</th>\n",
       "      <th>Value</th>\n",
       "    </tr>\n",
       "  </thead>\n",
       "  <tbody>\n",
       "    <tr>\n",
       "      <th>0</th>\n",
       "      <td>-logH</td>\n",
       "      <td>46.769810</td>\n",
       "    </tr>\n",
       "    <tr>\n",
       "      <th>1</th>\n",
       "      <td>TF-ICF+Phi</td>\n",
       "      <td>45.879105</td>\n",
       "    </tr>\n",
       "    <tr>\n",
       "      <th>2</th>\n",
       "      <td>TF-IDF+Psi</td>\n",
       "      <td>45.879105</td>\n",
       "    </tr>\n",
       "    <tr>\n",
       "      <th>3</th>\n",
       "      <td>TF-IDF</td>\n",
       "      <td>63.143216</td>\n",
       "    </tr>\n",
       "  </tbody>\n",
       "</table>\n",
       "</div>"
      ],
      "text/plain": [
       "      Formula      Value\n",
       "0       -logH  46.769810\n",
       "1  TF-ICF+Phi  45.879105\n",
       "2  TF-IDF+Psi  45.879105\n",
       "3      TF-IDF  63.143216"
      ]
     },
     "execution_count": 13,
     "metadata": {},
     "output_type": "execute_result"
    }
   ],
   "source": [
    "# Input values\n",
    "n = 10000\n",
    "ni = 200\n",
    "bi = 8\n",
    "nj = 100\n",
    "nij = 25\n",
    "d = 100\n",
    "\n",
    "# Result\n",
    "display_params(nij, ni, nj, n, bi, d)\n",
    "df = pd.DataFrame(generate_stats(nij, ni, nj, n, bi, d))\n",
    "df"
   ]
  },
  {
   "cell_type": "markdown",
   "metadata": {},
   "source": [
    "When Corollary 1 conditions are satisfied, the value of $ TF-IDF(i,j) + \\Psi_{ij} $ gets closer to $ - \\log{H_{ij}} $ and the difference becomes less significant when $ n $ gets larger."
   ]
  },
  {
   "cell_type": "markdown",
   "metadata": {},
   "source": [
    "### Corollary 2 verification"
   ]
  },
  {
   "cell_type": "markdown",
   "metadata": {},
   "source": [
    "#### Using small $ n $"
   ]
  },
  {
   "cell_type": "code",
   "execution_count": 14,
   "metadata": {},
   "outputs": [
    {
     "name": "stdout",
     "output_type": "stream",
     "text": [
      "Parameter settings:\n",
      "n = 1000\tnj = 20\n",
      "ni = 160\tnij = 20\n",
      "bi = 8\t\td = 50\n",
      "pi = 0.16\tpij = 1.0\n"
     ]
    },
    {
     "data": {
      "text/html": [
       "<div>\n",
       "<style scoped>\n",
       "    .dataframe tbody tr th:only-of-type {\n",
       "        vertical-align: middle;\n",
       "    }\n",
       "\n",
       "    .dataframe tbody tr th {\n",
       "        vertical-align: top;\n",
       "    }\n",
       "\n",
       "    .dataframe thead th {\n",
       "        text-align: right;\n",
       "    }\n",
       "</style>\n",
       "<table border=\"1\" class=\"dataframe\">\n",
       "  <thead>\n",
       "    <tr style=\"text-align: right;\">\n",
       "      <th></th>\n",
       "      <th>Formula</th>\n",
       "      <th>Value</th>\n",
       "    </tr>\n",
       "  </thead>\n",
       "  <tbody>\n",
       "    <tr>\n",
       "      <th>0</th>\n",
       "      <td>-logH</td>\n",
       "      <td>37.699296</td>\n",
       "    </tr>\n",
       "    <tr>\n",
       "      <th>1</th>\n",
       "      <td>TF-ICF+Phi</td>\n",
       "      <td>36.651629</td>\n",
       "    </tr>\n",
       "    <tr>\n",
       "      <th>2</th>\n",
       "      <td>TF-IDF+Psi</td>\n",
       "      <td>36.651629</td>\n",
       "    </tr>\n",
       "    <tr>\n",
       "      <th>3</th>\n",
       "      <td>TF-IDF</td>\n",
       "      <td>36.651629</td>\n",
       "    </tr>\n",
       "  </tbody>\n",
       "</table>\n",
       "</div>"
      ],
      "text/plain": [
       "      Formula      Value\n",
       "0       -logH  37.699296\n",
       "1  TF-ICF+Phi  36.651629\n",
       "2  TF-IDF+Psi  36.651629\n",
       "3      TF-IDF  36.651629"
      ]
     },
     "execution_count": 14,
     "metadata": {},
     "output_type": "execute_result"
    }
   ],
   "source": [
    "# Input values\n",
    "n = 1000\n",
    "ni = 160\n",
    "bi = 8\n",
    "nj = 20\n",
    "nij = 20\n",
    "d = 50\n",
    "\n",
    "# Result\n",
    "display_params(nij, ni, nj, n, bi, d)\n",
    "df = pd.DataFrame(generate_stats(nij, ni, nj, n, bi, d))\n",
    "df"
   ]
  },
  {
   "cell_type": "markdown",
   "metadata": {},
   "source": [
    "When Corollary 2 conditions are satisfied, the value of $ TF-IDF(i,j) $ gets closer to $ - \\log{H_{ij}} $"
   ]
  },
  {
   "cell_type": "markdown",
   "metadata": {},
   "source": [
    "#### Using large $ n $"
   ]
  },
  {
   "cell_type": "code",
   "execution_count": 15,
   "metadata": {},
   "outputs": [
    {
     "name": "stdout",
     "output_type": "stream",
     "text": [
      "Parameter settings:\n",
      "n = 10000\tnj = 80\n",
      "ni = 1200\tnij = 80\n",
      "bi = 15\t\td = 125\n",
      "pi = 0.12\tpij = 1.0\n"
     ]
    },
    {
     "data": {
      "text/html": [
       "<div>\n",
       "<style scoped>\n",
       "    .dataframe tbody tr th:only-of-type {\n",
       "        vertical-align: middle;\n",
       "    }\n",
       "\n",
       "    .dataframe tbody tr th {\n",
       "        vertical-align: top;\n",
       "    }\n",
       "\n",
       "    .dataframe thead th {\n",
       "        text-align: right;\n",
       "    }\n",
       "</style>\n",
       "<table border=\"1\" class=\"dataframe\">\n",
       "  <thead>\n",
       "    <tr style=\"text-align: right;\">\n",
       "      <th></th>\n",
       "      <th>Formula</th>\n",
       "      <th>Value</th>\n",
       "    </tr>\n",
       "  </thead>\n",
       "  <tbody>\n",
       "    <tr>\n",
       "      <th>0</th>\n",
       "      <td>-logH</td>\n",
       "      <td>171.997735</td>\n",
       "    </tr>\n",
       "    <tr>\n",
       "      <th>1</th>\n",
       "      <td>TF-ICF+Phi</td>\n",
       "      <td>169.621083</td>\n",
       "    </tr>\n",
       "    <tr>\n",
       "      <th>2</th>\n",
       "      <td>TF-IDF+Psi</td>\n",
       "      <td>169.621083</td>\n",
       "    </tr>\n",
       "    <tr>\n",
       "      <th>3</th>\n",
       "      <td>TF-IDF</td>\n",
       "      <td>169.621083</td>\n",
       "    </tr>\n",
       "  </tbody>\n",
       "</table>\n",
       "</div>"
      ],
      "text/plain": [
       "      Formula       Value\n",
       "0       -logH  171.997735\n",
       "1  TF-ICF+Phi  169.621083\n",
       "2  TF-IDF+Psi  169.621083\n",
       "3      TF-IDF  169.621083"
      ]
     },
     "execution_count": 15,
     "metadata": {},
     "output_type": "execute_result"
    }
   ],
   "source": [
    "# Input values\n",
    "n = 10000\n",
    "ni = 1200\n",
    "bi = 15\n",
    "nj = 80\n",
    "nij = 80\n",
    "d = 125\n",
    "\n",
    "# Result\n",
    "display_params(nij, ni, nj, n, bi, d)\n",
    "df = pd.DataFrame(generate_stats(nij, ni, nj, n, bi, d))\n",
    "df"
   ]
  },
  {
   "cell_type": "markdown",
   "metadata": {},
   "source": [
    "When Corollary 2 conditions are satisfied, the value of $ TF-IDF(i,j) $ gets closer to $ - \\log{H} $ and the difference becomes less significant when $ n $ gets larger."
   ]
  }
 ],
 "metadata": {
  "kernelspec": {
   "display_name": "Python 3 (ipykernel)",
   "language": "python",
   "name": "python3"
  },
  "language_info": {
   "codemirror_mode": {
    "name": "ipython",
    "version": 3
   },
   "file_extension": ".py",
   "mimetype": "text/x-python",
   "name": "python",
   "nbconvert_exporter": "python",
   "pygments_lexer": "ipython3",
   "version": "3.11.3"
  }
 },
 "nbformat": 4,
 "nbformat_minor": 4
}

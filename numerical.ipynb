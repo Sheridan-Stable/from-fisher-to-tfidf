{
 "cells": [
  {
   "cell_type": "markdown",
   "metadata": {},
   "source": [
    "# Numerical Experiments\n",
    "\n",
    "Authors: Zeyad Ahmed and Paul Sheridan\n",
    "\n",
    "Last update: 2024-06-10\n",
    "\n",
    "Description: This notebook contains code for reproducing the numerical experimental results from Table 3 in the manuscript \"A Fisher's exact test interpretation of the TF–IDF term-weighting scheme\"."
   ]
  },
  {
   "cell_type": "markdown",
   "metadata": {},
   "source": [
    "## Preliminaries"
   ]
  },
  {
   "cell_type": "code",
   "execution_count": 1,
   "metadata": {},
   "outputs": [
    {
     "ename": "ImportError",
     "evalue": "No module named scipy.stats",
     "output_type": "error",
     "traceback": [
      "\u001b[0;31m---------------------------------------------------------------------------\u001b[0m",
      "\u001b[0;31mImportError\u001b[0m                               Traceback (most recent call last)",
      "\u001b[0;32m<ipython-input-1-acccf31e624b>\u001b[0m in \u001b[0;36m<module>\u001b[0;34m()\u001b[0m\n\u001b[1;32m      1\u001b[0m \u001b[0;31m# Imports\u001b[0m\u001b[0;34m\u001b[0m\u001b[0;34m\u001b[0m\u001b[0m\n\u001b[1;32m      2\u001b[0m \u001b[0;32mimport\u001b[0m \u001b[0mmath\u001b[0m\u001b[0;34m\u001b[0m\u001b[0m\n\u001b[0;32m----> 3\u001b[0;31m \u001b[0;32mimport\u001b[0m \u001b[0mscipy\u001b[0m\u001b[0;34m.\u001b[0m\u001b[0mstats\u001b[0m \u001b[0;32mas\u001b[0m \u001b[0mstats\u001b[0m\u001b[0;34m\u001b[0m\u001b[0m\n\u001b[0m",
      "\u001b[0;31mImportError\u001b[0m: No module named scipy.stats"
     ]
    }
   ],
   "source": [
    "# Imports\n",
    "import math\n",
    "import scipy.stats as stats"
   ]
  },
  {
   "cell_type": "code",
   "execution_count": 2,
   "metadata": {},
   "outputs": [
    {
     "ename": "SyntaxError",
     "evalue": "invalid syntax (<ipython-input-2-e9bb8392b20f>, line 79)",
     "output_type": "error",
     "traceback": [
      "\u001b[0;36m  File \u001b[0;32m\"<ipython-input-2-e9bb8392b20f>\"\u001b[0;36m, line \u001b[0;32m79\u001b[0m\n\u001b[0;31m    print(f'Nij={Nij}\\tNi={Ni}\\tNj={Nj}\\tN={N}\\t\\nBi={Bi}\\tD={D}\\tPi={Pi}\\tPij={Pij}\\n\\nEq3: {self.LogH(Nij, Ni, Nj, N):.4f}\\nEq8: {self.eq8(Nij, Ni, Nj, N):.4f}\\nEq11: {self.eq11(Nij, Ni, Nj, N, Bi, D):.4f}\\nEq12: {self.tfidf(Nij, D, Bi):.4f}\\n{\"=\"*13}')\u001b[0m\n\u001b[0m                                                                                                                                                                                                                                                             ^\u001b[0m\n\u001b[0;31mSyntaxError\u001b[0m\u001b[0;31m:\u001b[0m invalid syntax\n"
     ]
    }
   ],
   "source": [
    "# Custom functions\n",
    "# @zeyad: Is anything gained by embedding these functions within a class? If we can drop the class without any harm, I'd do that.\n",
    "# @zeyad: How about making function names and variable names match the names used in the paper? For example \"hypergeometric_pmf\" could be \"h\", and \"Nij\" could be \"nij\".\n",
    "# @zeyad: Run the code through a linter so we are consistent with using whitespace, etc.\n",
    "class Functions():    \n",
    "    def tficf(self, Nij, N, Ni):\n",
    "        return Nij * math.log(N/Ni)\n",
    "    \n",
    "    def tfidf(self, Nij, D, Bi):\n",
    "        return Nij * math.log(D/Bi)\n",
    "    \n",
    "    def fisher(self, Nij, Ni, Nj, N, return_table=False): #H\n",
    "        \"\"\"Not used\"\"\"\n",
    "        contingency_table = [[0, 0], [0, 0]]\n",
    "        contingency_table[0][0] = Nij\n",
    "        contingency_table[0][1] = Ni - Nij\n",
    "        contingency_table[1][0] = Nj - Nij\n",
    "        contingency_table[1][1] = N - Ni - (Nj - Nij)\n",
    "        try:\n",
    "            if return_table:\n",
    "                return stats.fisher_exact(contingency_table, alternative='greater')[1], contingency_table\n",
    "            return stats.fisher_exact(contingency_table, alternative='greater')[1]\n",
    "        except:\n",
    "            print(\"Error: Check the values again.\")\n",
    "            print(contingency_table)\n",
    "    \n",
    "    def H(self, Nij, Ni, Nj, N):\n",
    "        return stats.hypergeom.sf(Nij-1, N, Ni, Nj)\n",
    "\n",
    "    def hypergeom_pmf(self, Nij, Ni, Nj, N): #h\n",
    "        return math.comb(Ni, Nij) * math.comb(N - Ni, Nj - Nij) / math.comb(N, Nj)\n",
    "\n",
    "\n",
    "    def LogH(self, Nij, Ni, Nj, N):\n",
    "        return -math.log(self.H(Nij, Ni, Nj, N))\n",
    "\n",
    "    \n",
    "    def binmomial(self, Nij, Nj, Pi): #b\n",
    "        return (math.comb(Nj, Nij)*Pi**Nij)*(1-Pi)**(Nj-Nij)\n",
    "        \n",
    "    # @zeyad: I'd call this \"Qij\"\n",
    "    def compute_Qij(self, Nij, Ni, Nj, N):\n",
    "        Pi = Ni/N\n",
    "        return self.H(Nij+1, Ni, Nj, N)/self.binmomial(Nij, Nj, Pi)\n",
    "\n",
    "    def eq8(self, Nij, Ni, Nj, N):\n",
    "        tficf = self.tficf(Nij, N, Ni)\n",
    "        Pij = Nij/Nj\n",
    "        Pi = Ni/N\n",
    "        Qij = self.compute_Qij(Nij, Ni, Nj, N)\n",
    "        return tficf + Nij*math.log(Pij) + (Nj - Nij)*(Pi - Pij) - Qij\n",
    "    \n",
    "    def eq11(self, r, Ni, Nj, N, Bi, D):\n",
    "        \"\"\"\n",
    "        nij = r\n",
    "        nil = rBil; l != j\n",
    "        \"\"\"\n",
    "        tfidf = self.tfidf(r, D, Bi)\n",
    "        Pi = Ni/N\n",
    "        Pij = r/Nj\n",
    "        return tfidf - r*(1-Bi/D)*(1-Pij) - self.compute_Qij(r, Ni, Nj, N)\n",
    "    \n",
    "    # @zeyad: We shouldn't have a function named \"temp\".\n",
    "    def temp(self, r, Ni, Nj, N, Bi, D):\n",
    "        \"\"\"\n",
    "        nij = r\n",
    "        nil = rBil; l != j\n",
    "        \"\"\"\n",
    "        tfidf = self.tfidf(r, D, Bi)\n",
    "        Pi = Ni/N\n",
    "        return tfidf - r*( (Bi/D) * (1-Pi) - 1 + r/D ) - self.compute_Qij(r, Ni, Nj, N)     \n",
    "    \n",
    "    def display_stats(self, Nij, Ni, Nj, N, Bi, D):\n",
    "        Pi = Ni/N\n",
    "        Pij = Nij/Nj\n",
    "        \n",
    "        print(f'Nij={Nij}\\tNi={Ni}\\tNj={Nj}\\tN={N}\\t\\nBi={Bi}\\tD={D}\\tPi={Pi}\\tPij={Pij}\\n\\nEq3: {self.LogH(Nij, Ni, Nj, N):.4f}\\nEq8: {self.eq8(Nij, Ni, Nj, N):.4f}\\nEq11: {self.eq11(Nij, Ni, Nj, N, Bi, D):.4f}\\nEq12: {self.tfidf(Nij, D, Bi):.4f}\\n{\"=\"*13}')\n"
   ]
  },
  {
   "cell_type": "markdown",
   "metadata": {},
   "source": [
    "## Numerical Experiments"
   ]
  },
  {
   "cell_type": "markdown",
   "metadata": {},
   "source": [
    "@zeyad: We should write a one sentence summary for each of these code blocks."
   ]
  },
  {
   "cell_type": "code",
   "execution_count": 4,
   "metadata": {},
   "outputs": [
    {
     "ename": "NameError",
     "evalue": "name 'Functions' is not defined",
     "output_type": "error",
     "traceback": [
      "\u001b[0;31m---------------------------------------------------------------------------\u001b[0m",
      "\u001b[0;31mNameError\u001b[0m                                 Traceback (most recent call last)",
      "\u001b[0;32m<ipython-input-4-69c612634647>\u001b[0m in \u001b[0;36m<module>\u001b[0;34m()\u001b[0m\n\u001b[1;32m      8\u001b[0m \u001b[0;34m\u001b[0m\u001b[0m\n\u001b[1;32m      9\u001b[0m \u001b[0;31m# Result\u001b[0m\u001b[0;34m\u001b[0m\u001b[0;34m\u001b[0m\u001b[0m\n\u001b[0;32m---> 10\u001b[0;31m \u001b[0mf\u001b[0m \u001b[0;34m=\u001b[0m \u001b[0mFunctions\u001b[0m\u001b[0;34m(\u001b[0m\u001b[0;34m)\u001b[0m\u001b[0;34m\u001b[0m\u001b[0m\n\u001b[0m\u001b[1;32m     11\u001b[0m \u001b[0mf\u001b[0m\u001b[0;34m.\u001b[0m\u001b[0mdisplay_stats\u001b[0m\u001b[0;34m(\u001b[0m\u001b[0mnij\u001b[0m\u001b[0;34m,\u001b[0m \u001b[0mni\u001b[0m\u001b[0;34m,\u001b[0m \u001b[0mnj\u001b[0m\u001b[0;34m,\u001b[0m \u001b[0mn\u001b[0m\u001b[0;34m,\u001b[0m \u001b[0mbi\u001b[0m\u001b[0;34m,\u001b[0m \u001b[0md\u001b[0m\u001b[0;34m)\u001b[0m\u001b[0;34m\u001b[0m\u001b[0m\n",
      "\u001b[0;31mNameError\u001b[0m: name 'Functions' is not defined"
     ]
    }
   ],
   "source": [
    "# Input values\n",
    "n=1000\n",
    "ni=150\n",
    "bi=4\n",
    "nj=100\n",
    "nij=25\n",
    "d=20\n",
    "\n",
    "# Result\n",
    "f = Functions()\n",
    "f.display_stats(nij, ni, nj, n, bi, d)"
   ]
  },
  {
   "cell_type": "code",
   "execution_count": 21,
   "metadata": {},
   "outputs": [
    {
     "name": "stdout",
     "output_type": "stream",
     "text": [
      "Nij=15\tNi=200\tNj=75\tN=10000\t\n",
      "Bi=20\tD=75\tPi=0.02\tPij=0.2\n",
      "\n",
      "Eq3: 24.8971\n",
      "Eq8: 23.6898\n",
      "Eq11: 10.9773\n",
      "Eq12: 19.8263\n",
      "=============\n"
     ]
    }
   ],
   "source": [
    "## KEEP\n",
    "\n",
    "n=10000\n",
    "ni=200\n",
    "bi=20\n",
    "nj=75\n",
    "nij=15\n",
    "d=75\n",
    "pi=ni/n\n",
    "pij=nij/nj\n",
    "\n",
    "f = Functions()\n",
    "f.display_stats(nij, ni, nj, n, bi, d)"
   ]
  },
  {
   "cell_type": "code",
   "execution_count": 19,
   "metadata": {},
   "outputs": [
    {
     "name": "stdout",
     "output_type": "stream",
     "text": [
      "Nij=20\tNi=160\tNj=20\tN=1000\t\n",
      "Bi=8\tD=50\tPi=0.16\tPij=1.0\n",
      "\n",
      "Eq3: 37.6993\n",
      "Eq8: 36.6516\n",
      "Eq11: 36.6516\n",
      "Eq12: 36.6516\n",
      "=============\n"
     ]
    }
   ],
   "source": [
    "## KEEP\n",
    "\n",
    "n=1000\n",
    "ni=160\n",
    "bi=8\n",
    "nj=20\n",
    "nij=20\n",
    "d=50\n",
    "\n",
    "f=Functions()\n",
    "f.display_stats(nij, ni,nj,n,bi,d)"
   ]
  },
  {
   "cell_type": "code",
   "execution_count": 22,
   "metadata": {},
   "outputs": [
    {
     "name": "stdout",
     "output_type": "stream",
     "text": [
      "Nij=25\tNi=200\tNj=100\tN=10000\t\n",
      "Bi=8\tD=100\tPi=0.02\tPij=0.25\n",
      "\n",
      "Eq3: 46.7698\n",
      "Eq8: 45.8791\n",
      "Eq11: 45.8791\n",
      "Eq12: 63.1432\n",
      "=============\n"
     ]
    }
   ],
   "source": [
    "## KEEP\n",
    "\n",
    "n=10000\n",
    "ni=200\n",
    "bi=8\n",
    "nj=100\n",
    "nij=25\n",
    "d=100\n",
    "pi=ni/n\n",
    "pij=nij/nj\n",
    "\n",
    "f = Functions()\n",
    "f.display_stats(nij, ni, nj, n, bi, d)\n",
    "\n"
   ]
  },
  {
   "cell_type": "code",
   "execution_count": 23,
   "metadata": {},
   "outputs": [
    {
     "name": "stdout",
     "output_type": "stream",
     "text": [
      "Nij=10\tNi=100\tNj=25\tN=1000\t\n",
      "Bi=10\tD=40\tPi=0.1\tPij=0.4\n",
      "\n",
      "Eq3: 9.7407\n",
      "Eq8: 9.2446\n",
      "Eq11: 9.2446\n",
      "Eq12: 13.8629\n",
      "=============\n"
     ]
    }
   ],
   "source": [
    "## KEEP\n",
    "\n",
    "n=1000\n",
    "ni=100\n",
    "bi=10\n",
    "nj=25\n",
    "nij=10\n",
    "d=40\n",
    "pi=ni/n\n",
    "pij=nij/nj\n",
    "\n",
    "f = Functions()\n",
    "f.display_stats(nij, ni, nj, n, bi, d)\n",
    "\n"
   ]
  },
  {
   "cell_type": "code",
   "execution_count": 24,
   "metadata": {},
   "outputs": [
    {
     "name": "stdout",
     "output_type": "stream",
     "text": [
      "Nij=80\tNi=1200\tNj=80\tN=10000\t\n",
      "Bi=15\tD=125\tPi=0.12\tPij=1.0\n",
      "\n",
      "Eq3: 171.9977\n",
      "Eq8: 169.6211\n",
      "Eq11: 169.6211\n",
      "Eq12: 169.6211\n",
      "=============\n"
     ]
    }
   ],
   "source": [
    "## KEEP\n",
    "\n",
    "n=10000\n",
    "ni=1200\n",
    "bi=15\n",
    "nj=80\n",
    "nij=80\n",
    "d=125\n",
    "pi=ni/n\n",
    "pij=nij/nj\n",
    "\n",
    "f = Functions()\n",
    "f.display_stats(nij, ni, nj, n, bi, d)\n",
    "\n"
   ]
  }
 ],
 "metadata": {
  "kernelspec": {
   "display_name": "Python 2",
   "language": "python",
   "name": "python2"
  },
  "language_info": {
   "codemirror_mode": {
    "name": "ipython",
    "version": 2
   },
   "file_extension": ".py",
   "mimetype": "text/x-python",
   "name": "python",
   "nbconvert_exporter": "python",
   "pygments_lexer": "ipython2",
   "version": "2.7.18"
  }
 },
 "nbformat": 4,
 "nbformat_minor": 2
}
